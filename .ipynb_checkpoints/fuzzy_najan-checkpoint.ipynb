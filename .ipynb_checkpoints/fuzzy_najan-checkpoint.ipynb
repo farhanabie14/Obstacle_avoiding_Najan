{
 "cells": [
  {
   "cell_type": "code",
   "execution_count": 65,
   "id": "29010d85",
   "metadata": {},
   "outputs": [],
   "source": [
    "import numpy as np\n",
    "jarak_kiri = 100\n",
    "jarak_depan = 100\n",
    "jarak_kanan = 200"
   ]
  },
  {
   "cell_type": "code",
   "execution_count": 66,
   "id": "4e07f29a",
   "metadata": {},
   "outputs": [],
   "source": [
    "def bahukiri(x,alpha,beta):\n",
    "    if x<alpha:\n",
    "        return 1\n",
    "    if alpha < x and x<=beta:\n",
    "        return (beta - x)/(beta - alpha)\n",
    "    else:\n",
    "        return 0\n",
    "    \n",
    "def bahukanan(x,alpha,beta):\n",
    "    if x<alpha:\n",
    "        return 0\n",
    "    if alpha < x and x<=beta:\n",
    "        return (x-alpha)/(beta - alpha)\n",
    "    else:\n",
    "        return 0\n",
    "    \n",
    "def segitiga(x,a,b,c):\n",
    "    return max(min((x-a)/(b-a), (c-x)/(c-b)),0)\n",
    "\n"
   ]
  },
  {
   "cell_type": "code",
   "execution_count": 67,
   "id": "c9c60587",
   "metadata": {},
   "outputs": [],
   "source": [
    "def partition(x):\n",
    "    D = 0; S = 0; J = 0 #Dekat,Sedang, Jauh\n",
    "    \n",
    "    if x>0 and x<120:\n",
    "        D = bahukiri(x,30,120)\n",
    "    if x>30 and x<270:\n",
    "        S = segitiga(x,30,150,270 )\n",
    "    if x>180 and x<300:\n",
    "        J = bahukanan(x,180,300)\n",
    "    \n",
    "    return D,S,J;"
   ]
  },
  {
   "cell_type": "code",
   "execution_count": 68,
   "id": "c671fd09",
   "metadata": {},
   "outputs": [],
   "source": [
    "kiri_D,kiri_S,kiri_J = partition(jarak_kiri)\n",
    "depan_D,depan_S,depan_J = partition(jarak_depan)\n",
    "kanan_D,kanan_S,kanan_J = partition(jarak_kanan)"
   ]
  },
  {
   "cell_type": "code",
   "execution_count": 69,
   "id": "5d54a7c5",
   "metadata": {},
   "outputs": [
    {
     "name": "stdout",
     "output_type": "stream",
     "text": [
      "Nilai crisp input fuzzy\n",
      "['D', 'S', 'J']\n",
      "[[0.22 0.58 0.  ]\n",
      " [0.22 0.58 0.  ]\n",
      " [0.   0.58 0.17]]\n"
     ]
    }
   ],
   "source": [
    "output = [[kiri_D,kiri_S,kiri_J],\n",
    "          [depan_D,depan_S,depan_J],\n",
    "          [kanan_D,kanan_S,kanan_J]]\n",
    "\n",
    "print(\"Nilai crisp input fuzzy\")\n",
    "print([\"D\",\"S\",\"J\"])\n",
    "print(np.round(output,2))"
   ]
  },
  {
   "cell_type": "code",
   "execution_count": 70,
   "id": "2a412b15",
   "metadata": {},
   "outputs": [],
   "source": []
  },
  {
   "cell_type": "code",
   "execution_count": 71,
   "id": "3aabc060",
   "metadata": {},
   "outputs": [],
   "source": [
    "def compare (a,b):\n",
    "    output = 0\n",
    "    if a>b and a!=0 and b!=0:\n",
    "        output = b\n",
    "    else:\n",
    "        output = a\n",
    "    if a == 0 and b!=0:\n",
    "        output = b\n",
    "    if b == 0 and a!=0:\n",
    "        output = a\n",
    "        \n",
    "    return output\n",
    "\n",
    "\n",
    "    \n",
    "    "
   ]
  },
  {
   "cell_type": "code",
   "execution_count": 72,
   "id": "455d6b11",
   "metadata": {},
   "outputs": [],
   "source": [
    "def rule_kiri (kiri_D,kiri_S,kiri_J,depan_D,depan_S,depan_J,kanan_D,kanan_S,kanan_J):\n",
    "    C_1   = min(kiri_D,depan_J,kanan_J)\n",
    "    C_2   = min(kiri_D,depan_J,kanan_S)\n",
    "    C_3   = min(kiri_D,depan_J,kanan_D)\n",
    "    C_4   = min(kiri_D,depan_S,kanan_D)\n",
    "    C_5   = min(kiri_J,depan_J,kanan_J)\n",
    "    C_6   = min(kiri_J,depan_J,kanan_S)\n",
    "    C_7   = min(kiri_J,depan_S,kanan_J)\n",
    "    C_8   = min(kiri_J,depan_J,kanan_D)\n",
    "    C_9   = min(kiri_S,depan_J,kanan_J)\n",
    "    C_10  = min(kiri_S,depan_J,kanan_D)\n",
    "    C_11  = min(kiri_S,depan_J,kanan_S)\n",
    "    C_12  = min(kiri_S,depan_S,kanan_J)\n",
    "    Cepat = compare(C_1,compare(C_2,compare(C_3,compare(C_4,compare(C_5,compare(C_6,compare(C_7,compare(C_8,compare(C_9,compare(C_10,compare(C_11,C_12)))))))))))\n",
    "    \n",
    "    AC_1 = min(kiri_J,depan_S,kanan_D)\n",
    "    AC_2 = min(kiri_J,depan_D,kanan_D)\n",
    "    AC_3 = min(kiri_J,depan_D,kanan_S)\n",
    "    AC_4 = min(kiri_J,depan_S,kanan_S)\n",
    "    AC_5 = min(kiri_S,depan_S,kanan_D)\n",
    "    AC_6 = min(kiri_S,depan_D,kanan_D)\n",
    "    AgakCepat = compare(AC_1,compare(AC_2,compare(AC_3,compare(AC_4,compare(AC_5,AC_6)))))\n",
    "    \n",
    "    \n",
    "    AL_1 = min(kiri_D,depan_S,kanan_J)\n",
    "    AL_2 = min(kiri_D,depan_S,kanan_S)\n",
    "    AL_3 = min(kiri_J,depan_D,kanan_J)\n",
    "    AL_4 = min(kiri_S,depan_S,kanan_S)\n",
    "    AgakLambat = compare(AL_1,compare(AL_2,compare(AL_3,AL_4)))\n",
    "    \n",
    "    L_1 = min(kiri_D,depan_D,kanan_J)\n",
    "    L_2 = min(kiri_D,depan_D,kanan_S)\n",
    "    L_3 = min(kiri_S,depan_D,kanan_J)\n",
    "    L_4 = min(kiri_S,depan_D,kanan_S)\n",
    "    Lambat = compare(L_1,compare(L_2,compare(L_3,L_4)))\n",
    "    \n",
    "    Mundur = min(kiri_D,depan_D,kanan_D)\n",
    "    \n",
    "    return Cepat, AgakCepat, AgakLambat, Lambat, Mundur\n",
    "    \n",
    "    "
   ]
  },
  {
   "cell_type": "code",
   "execution_count": 73,
   "id": "772d8d4f",
   "metadata": {},
   "outputs": [],
   "source": [
    "def rule_kanan(kiri_D,kiri_S,kiri_J,depan_D,depan_S,depan_J,kanan_D,kanan_S,kanan_J):\n",
    "    C_1   = min(kiri_D,depan_J,kanan_J)\n",
    "    C_2   = min(kiri_D,depan_J,kanan_S)\n",
    "    C_3   = min(kiri_D,depan_J,kanan_D)\n",
    "    C_4   = min(kiri_D,depan_S,kanan_D)\n",
    "    C_5   = min(kiri_J,depan_J,kanan_J)\n",
    "    C_6   = min(kiri_J,depan_J,kanan_S)\n",
    "    C_7   = min(kiri_J,depan_S,kanan_J)\n",
    "    C_8   = min(kiri_J,depan_J,kanan_D)\n",
    "    C_9   = min(kiri_S,depan_J,kanan_J)\n",
    "    C_10  = min(kiri_S,depan_J,kanan_D)\n",
    "    C_11  = min(kiri_S,depan_J,kanan_S)\n",
    "    C_12  = min(kiri_S,depan_S,kanan_J)\n",
    "    Cepat = compare(C_1,compare(C_2,compare(C_3,compare(C_4,compare(C_5,compare(C_6,compare(C_7,compare(C_8,compare(C_9,compare(C_10,compare(C_11,C_12)))))))))))\n",
    "    \n",
    "    AC_1 = min(kiri_D,depan_S,kanan_J)\n",
    "    AC_2 = min(kiri_D,depan_D,kanan_J)\n",
    "    AC_3 = min(kiri_D,depan_S,kanan_S)\n",
    "    AC_4 = min(kiri_D,depan_D,kanan_S)\n",
    "    AC_5 = min(kiri_D,depan_D,kanan_S)\n",
    "    AC_6 = min(kiri_J,depan_D,kanan_J)\n",
    "    AC_7 = min(kiri_S,depan_D,kanan_J)\n",
    "    AC_8 = min(kiri_S,depan_D,kanan_S)\n",
    "    AgakCepat = compare(AC_1,compare(AC_2,compare(AC_3,compare(AC_4,compare(AC_5,compare(AC_6,compare(AC_7,AC_8)))))))\n",
    "    \n",
    "    AgakLambat = min(kiri_J,depan_S,kanan_D)\n",
    "    \n",
    "    L_1 = min(kiri_J,depan_D,kanan_D)\n",
    "    L_2 = min(kiri_J,depan_D,kanan_S)\n",
    "    L_3 = min(kiri_S,depan_S,kanan_D)\n",
    "    L_4 = min(kiri_S,depan_D,kanan_D)\n",
    "    Lambat = compare(L_1,compare(L_2,compare(L_3,L_4)))\n",
    "    \n",
    "    Mundur = min(kiri_D,depan_D,kanan_D)\n",
    "    \n",
    "    return Cepat, AgakCepat, AgakLambat, Lambat, Mundur"
   ]
  },
  {
   "cell_type": "code",
   "execution_count": 74,
   "id": "27044c8d",
   "metadata": {},
   "outputs": [],
   "source": [
    "kiri_cepat, kiri_agakcepat, kiri_agaklambat,kiri_lambat,kiri_mundur = rule_kiri(kiri_D,kiri_S,kiri_J,depan_D,depan_S,depan_J,kanan_D,kanan_S,kanan_J)\n",
    "kanan_cepat, kanan_agakcepat, kanan_agaklambat,kanan_lambat,kanan_mundur = rule_kanan(kiri_D,kiri_S,kiri_J,depan_D,depan_S,depan_J,kanan_D,kanan_S,kanan_J)\n"
   ]
  },
  {
   "cell_type": "code",
   "execution_count": 75,
   "id": "89ac889e",
   "metadata": {},
   "outputs": [
    {
     "name": "stdout",
     "output_type": "stream",
     "text": [
      "\n",
      "Hasil Crisp Output kiri:  118.7817147856518\n",
      "\n",
      "Hasil Crisp Output kanan:  152.72292993630572\n"
     ]
    }
   ],
   "source": [
    "# De-fuzzyfication\n",
    "def areaTR(mu, a,b,c):\n",
    "    x1 = mu*(b-a) + a\n",
    "    x2 = c - mu*(c-b)\n",
    "    d1 = (c-a); d2 = x2-x1\n",
    "    a = (1/2)*mu*(d1 + d2)\n",
    "    return a # Returning area\n",
    "\n",
    "def areaOL(mu, alpha, beta):\n",
    "    xOL = beta -mu*(beta - alpha)\n",
    "    return 1/2*mu*(beta+ xOL), beta/2\n",
    "\n",
    "def areaOR(mu, alpha, beta):\n",
    "    xOR = (beta - alpha)*mu + alpha\n",
    "    aOR = (1/2)*mu*((240 - alpha) + (240 -xOR))\n",
    "    return aOR, (240 - alpha)/2 + alpha\n",
    "\n",
    "def defuzzyfication(Cepat, AgakCepat, AgakLambat, Lambat):\n",
    "    areaC = 0; areaAC = 0; areaAL = 0; areaL = 0;\n",
    "    centerC = 0; centerAC = 0; centerAL = 0; centerL = 0; \n",
    "    \n",
    "    if Cepat != 0:\n",
    "        areaC, centerC = areaOL(Cepat, 240, 255)\n",
    "        \n",
    "    if AgakCepat != 0:\n",
    "        areaAC = areaTR(AgakCepat, 200,240,280)\n",
    "        centerAC = 240\n",
    "        \n",
    "    if AgakLambat != 0:\n",
    "        areaAL = areaTR(AgakLambat,140,180,210)\n",
    "        centerAL = 180\n",
    "        \n",
    "    if Lambat != 0:\n",
    "        areaL, centerL = areaOL(Lambat,140,160)\n",
    "        \n",
    "    numerator = (areaC*centerC) + (areaAC*centerAC) + (areaAL*centerAL)+ (areaL*centerL)\n",
    "    denominator = areaC+areaAC+areaAL+areaL\n",
    "    \n",
    "    if denominator == 0:\n",
    "        print(\"tidak ada output yang dihasilkan\")\n",
    "    else:\n",
    "        crispOutput = numerator/denominator\n",
    "        return crispOutput\n",
    "\n",
    "crispOutputFinal_kiri = defuzzyfication(kiri_cepat, kiri_agakcepat, kiri_agaklambat, kiri_lambat)\n",
    "crispOutputFinal_Kanan = defuzzyfication(kanan_cepat,kanan_agakcepat,kanan_agaklambat,kanan_lambat)\n",
    "\n",
    "# if crispOutputFinal_kiri !=0 and crispOutputFinal_Kanan !=0:\n",
    "print(\"\\nHasil Crisp Output kiri: \", crispOutputFinal_kiri)\n",
    "print(\"\\nHasil Crisp Output kanan: \", crispOutputFinal_Kanan)"
   ]
  }
 ],
 "metadata": {
  "kernelspec": {
   "display_name": "Python 3",
   "language": "python",
   "name": "python3"
  },
  "language_info": {
   "codemirror_mode": {
    "name": "ipython",
    "version": 3
   },
   "file_extension": ".py",
   "mimetype": "text/x-python",
   "name": "python",
   "nbconvert_exporter": "python",
   "pygments_lexer": "ipython3",
   "version": "3.8.12"
  }
 },
 "nbformat": 4,
 "nbformat_minor": 5
}
