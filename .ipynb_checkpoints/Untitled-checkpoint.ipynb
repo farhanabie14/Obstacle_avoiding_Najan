{
 "cells": [
  {
   "cell_type": "code",
   "execution_count": 26,
   "id": "b0653970",
   "metadata": {},
   "outputs": [],
   "source": [
    "import pandas as pd\n",
    "import numpy as np"
   ]
  },
  {
   "cell_type": "code",
   "execution_count": 27,
   "id": "ed21e681",
   "metadata": {},
   "outputs": [],
   "source": [
    "class Member:\n",
    "\n",
    "    def __init__(self, value):\n",
    "        self.value = value\n",
    "\n",
    "    def Segitiga(self, LowRange, MidRange, HighRange):\n",
    "        if self.value <= LowRange or self.value >= HighRange :\n",
    "            return 0\n",
    "        elif self.value > LowRange and self.value < MidRange :\n",
    "            output = (self.value - LowRange) / (MidRange-LowRange)\n",
    "            return output\n",
    "        elif self.value > MidRange and self.value < HighRange :\n",
    "            output = (HighRange - self.value) / (HighRange - MidRange)\n",
    "            return output\n",
    "        elif self.value == MidRange :\n",
    "            return 1\n",
    "        else :\n",
    "            return 0\n",
    "\n",
    "    def BahuKiri(self, LowRange, HighRange):\n",
    "        if self.value <= LowRange :\n",
    "            return 1\n",
    "        elif self.value > LowRange and self.value < HighRange :\n",
    "            output = (HighRange - self.value) / (HighRange - LowRange)\n",
    "            return output\n",
    "        else :\n",
    "            return 0\n",
    "\n",
    "    def BahuKanan(self, LowRange, HighRange):\n",
    "        if self.value >= HighRange :\n",
    "            return 1\n",
    "        elif self.value > LowRange and self.value < HighRange :\n",
    "            output = (self.value- LowRange) / (HighRange - LowRange)\n",
    "            return output\n",
    "        else :\n",
    "            return 0\n",
    "\n",
    "    def Trapesium(self, LowestRange, LowRange, HighRange, HighestRange):\n",
    "        if self.value <= LowestRange or self.value >= HighestRange :\n",
    "            return 0\n",
    "        elif self.value > LowestRange and self.value < LowRange :\n",
    "            output = (self.value - LowestRange) / (LowRange - LowestRange)\n",
    "            return output\n",
    "        elif self.value > LowRange and self.value < HighRange :\n",
    "            return 1\n",
    "        elif self.value > HighRange and self.value < HighestRange:\n",
    "            output = (HighestRange - self.value) / (HighestRange - HighRange)\n",
    "            return output\n",
    "        else :\n",
    "            return 0"
   ]
  },
  {
   "cell_type": "code",
   "execution_count": 28,
   "id": "296e361b",
   "metadata": {},
   "outputs": [],
   "source": [
    "class Defuzz:\n",
    "    def __init__(self):\n",
    "        self.az_total = []\n",
    "        self.alpha_total = []\n",
    "\n",
    "    def add_rules(self, alpha_rules, z_rules):\n",
    "        self.az = alpha_rules * z_rules\n",
    "        self.az_total.append(self.az)\n",
    "        self.alpha_total.append(alpha_rules)\n",
    "\n",
    "    def get_output(self):\n",
    "        # print(sum(self.alpha_total))\n",
    "        if sum(self.az_total) == 0 and sum(self.alpha_total) == 0 :\n",
    "            # print(\"Nol\")\n",
    "            return 0\n",
    "        else :\n",
    "            out = sum(self.az_total) / sum(self.alpha_total)\n",
    "            # print(out)\n",
    "            return out"
   ]
  },
  {
   "cell_type": "code",
   "execution_count": 29,
   "id": "64cd95ab",
   "metadata": {},
   "outputs": [],
   "source": [
    "def constrain(value,min_value, max_value) :\n",
    "    if (value <= min_value) :\n",
    "        return min_value\n",
    "    elif(value >= max_value):\n",
    "        return max_value\n",
    "    else :\n",
    "        return value"
   ]
  },
  {
   "cell_type": "code",
   "execution_count": 30,
   "id": "0c2d0a73",
   "metadata": {},
   "outputs": [
    {
     "data": {
      "text/plain": [
       "27"
      ]
     },
     "execution_count": 30,
     "metadata": {},
     "output_type": "execute_result"
    }
   ],
   "source": [
    "data = pd.read_excel(\"Rules LIDAR.xlsx\",header=None)\n",
    "data = data.iloc[1:,:-1]\n",
    "\n",
    "data.loc[data[0] == \"dekat\",0] = \"self.left_dekat\"\n",
    "data.loc[data[0] == \"sedang\",0] = \"self.left_sedang\"\n",
    "data.loc[data[0] == \"jauh\",0] = \"self.left_jauh\"\n",
    "\n",
    "data.loc[data[1] == \"dekat\",1] = \"self.left_dekat\"\n",
    "data.loc[data[1] == \"sedang\",1] = \"self.left_sedang\"\n",
    "data.loc[data[1] == \"jauh\",1] = \"self.left_jauh\"\n",
    "\n",
    "data.loc[data[2] == \"dekat\",2] = \"self.left_dekat\"\n",
    "data.loc[data[2] == \"sedang\",2] = \"self.left_sedang\"\n",
    "data.loc[data[2] == \"jauh\",2] = \"self.left_jauh\"\n",
    "\n",
    "len(data)"
   ]
  },
  {
   "cell_type": "code",
   "execution_count": 31,
   "id": "2771746a",
   "metadata": {},
   "outputs": [],
   "source": [
    "class Rules:\n",
    "    def __init__(self,ant1,ant2,ant3,cons):\n",
    "        self.alpha = min(ant1, ant2, ant3)\n",
    "        self.z = cons\n"
   ]
  },
  {
   "cell_type": "code",
   "execution_count": null,
   "id": "ff3da4c0",
   "metadata": {},
   "outputs": [],
   "source": []
  },
  {
   "cell_type": "code",
   "execution_count": 35,
   "id": "51f93b98",
   "metadata": {},
   "outputs": [],
   "source": [
    "class fuzzy:\n",
    "    def __init__(self,sensor_kiri,sensor_kanan,sensor_depan):\n",
    "        self.left = sensor_kiri\n",
    "        self.right = sensor_kanan\n",
    "        self.front = sensor_depan\n",
    "        \n",
    "    def fuzzifikasi_kiri(self, sisi_kiri):\n",
    "        self.left_dekat = Member(sisi_kiri).BahuKiri(50, 100)\n",
    "        self.left_sedang = Member(sisi_kiri).Segitiga(50,150,250)\n",
    "        self.left_jauh = Member(sisi_kiri).BahuKanan(200,250)\n",
    "    def fuzzifikasi_kanan(self, sisi_kanan):\n",
    "        self.kanan_dekat = Member(sisi_kanan).BahuKiri(50, 100)\n",
    "        self.kanan_sedang = Member(sisi_kanan).Segitiga(50,150,250)\n",
    "        self.kanan_jauh = Member(sisi_kanan).BahuKanan(200,250)\n",
    "    def fuzzifikasi_depan(self,sisi_depan):\n",
    "        self.depan_dekat = Member(sisi_depan).BahuKiri(50, 100)\n",
    "        self.depan_sedang = Member(sisi_depan).Segitiga(50,150,250)\n",
    "        self.depan_jauh = Member(sisi_depan).BahuKanan(200,250)\n",
    "    def fuzzifikasi_all(self,kiri,kanan,depan):\n",
    "        self.fuzzifikasi_kiri(kiri)\n",
    "        self.fuzzifikasi_kanan(kanan)\n",
    "        self.fuzzifikasi_depan(depan)\n",
    "        \n",
    "        for number_rules in range(len(data)):\n",
    "            R[number_rules] = Rules(data)\n",
    "            \n",
    "        left_side_defuzz = Defuzz()\n",
    "        for number_left_defuzz in range(len(data)):\n",
    "            left_side_defuzz.add_rules(R[number_left_defuzz].alpha, R[number_left_defuzz].z)"
   ]
  },
  {
   "cell_type": "code",
   "execution_count": null,
   "id": "6e8f8780",
   "metadata": {},
   "outputs": [],
   "source": []
  },
  {
   "cell_type": "code",
   "execution_count": null,
   "id": "a8bf7ce9",
   "metadata": {},
   "outputs": [],
   "source": []
  },
  {
   "cell_type": "code",
   "execution_count": null,
   "id": "50c53bb7",
   "metadata": {},
   "outputs": [],
   "source": []
  },
  {
   "cell_type": "code",
   "execution_count": null,
   "id": "c42554f4",
   "metadata": {},
   "outputs": [],
   "source": []
  }
 ],
 "metadata": {
  "kernelspec": {
   "display_name": "Python 3",
   "language": "python",
   "name": "python3"
  },
  "language_info": {
   "codemirror_mode": {
    "name": "ipython",
    "version": 3
   },
   "file_extension": ".py",
   "mimetype": "text/x-python",
   "name": "python",
   "nbconvert_exporter": "python",
   "pygments_lexer": "ipython3",
   "version": "3.8.12"
  }
 },
 "nbformat": 4,
 "nbformat_minor": 5
}
